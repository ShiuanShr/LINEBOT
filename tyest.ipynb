{
 "cells": [
  {
   "cell_type": "code",
   "execution_count": 3,
   "metadata": {},
   "outputs": [
    {
     "name": "stdout",
     "output_type": "stream",
     "text": [
      "Requirement already satisfied: flask in /home/shr/.pyenv/versions/3.9.14/lib/python3.9/site-packages (2.3.2)\n",
      "Requirement already satisfied: Jinja2>=3.1.2 in /home/shr/.pyenv/versions/3.9.14/lib/python3.9/site-packages (from flask) (3.1.2)\n",
      "Requirement already satisfied: blinker>=1.6.2 in /home/shr/.pyenv/versions/3.9.14/lib/python3.9/site-packages (from flask) (1.6.2)\n",
      "Requirement already satisfied: Werkzeug>=2.3.3 in /home/shr/.pyenv/versions/3.9.14/lib/python3.9/site-packages (from flask) (2.3.4)\n",
      "Requirement already satisfied: click>=8.1.3 in /home/shr/.pyenv/versions/3.9.14/lib/python3.9/site-packages (from flask) (8.1.3)\n",
      "Requirement already satisfied: importlib-metadata>=3.6.0 in /home/shr/.pyenv/versions/3.9.14/lib/python3.9/site-packages (from flask) (6.6.0)\n",
      "Requirement already satisfied: itsdangerous>=2.1.2 in /home/shr/.pyenv/versions/3.9.14/lib/python3.9/site-packages (from flask) (2.1.2)\n",
      "Requirement already satisfied: zipp>=0.5 in /home/shr/.pyenv/versions/3.9.14/lib/python3.9/site-packages (from importlib-metadata>=3.6.0->flask) (3.15.0)\n",
      "Requirement already satisfied: MarkupSafe>=2.0 in /home/shr/.pyenv/versions/3.9.14/lib/python3.9/site-packages (from Jinja2>=3.1.2->flask) (2.1.1)\n",
      "\n",
      "\u001b[1m[\u001b[0m\u001b[34;49mnotice\u001b[0m\u001b[1;39;49m]\u001b[0m\u001b[39;49m A new release of pip available: \u001b[0m\u001b[31;49m22.3.1\u001b[0m\u001b[39;49m -> \u001b[0m\u001b[32;49m23.1.2\u001b[0m\n",
      "\u001b[1m[\u001b[0m\u001b[34;49mnotice\u001b[0m\u001b[1;39;49m]\u001b[0m\u001b[39;49m To update, run: \u001b[0m\u001b[32;49mpip install --upgrade pip\u001b[0m\n",
      "Collecting line-bot-sdk\n",
      "  Downloading line_bot_sdk-2.4.2-py2.py3-none-any.whl (90 kB)\n",
      "\u001b[2K     \u001b[90m━━━━━━━━━━━━━━━━━━━━━━━━━━━━━━━━━━━━━━━━\u001b[0m \u001b[32m90.1/90.1 kB\u001b[0m \u001b[31m2.2 MB/s\u001b[0m eta \u001b[36m0:00:00\u001b[0ma \u001b[36m0:00:01\u001b[0m\n",
      "\u001b[?25hCollecting requests==2.28.2\n",
      "  Downloading requests-2.28.2-py3-none-any.whl (62 kB)\n",
      "\u001b[2K     \u001b[90m━━━━━━━━━━━━━━━━━━━━━━━━━━━━━━━━━━━━━━━━\u001b[0m \u001b[32m62.8/62.8 kB\u001b[0m \u001b[31m7.1 MB/s\u001b[0m eta \u001b[36m0:00:00\u001b[0m\n",
      "\u001b[?25hCollecting future\n",
      "  Downloading future-0.18.3.tar.gz (840 kB)\n",
      "\u001b[2K     \u001b[90m━━━━━━━━━━━━━━━━━━━━━━━━━━━━━━━━━━━━━━\u001b[0m \u001b[32m840.9/840.9 kB\u001b[0m \u001b[31m12.7 MB/s\u001b[0m eta \u001b[36m0:00:00\u001b[0ma \u001b[36m0:00:01\u001b[0m\n",
      "\u001b[?25h  Preparing metadata (setup.py) ... \u001b[?25ldone\n",
      "\u001b[?25hCollecting aiohttp==3.8.4\n",
      "  Downloading aiohttp-3.8.4-cp39-cp39-manylinux_2_17_x86_64.manylinux2014_x86_64.whl (1.0 MB)\n",
      "\u001b[2K     \u001b[90m━━━━━━━━━━━━━━━━━━━━━━━━━━━━━━━━━━━━━━━━\u001b[0m \u001b[32m1.0/1.0 MB\u001b[0m \u001b[31m45.7 MB/s\u001b[0m eta \u001b[36m0:00:00\u001b[0m\n",
      "\u001b[?25hCollecting aiosignal>=1.1.2\n",
      "  Downloading aiosignal-1.3.1-py3-none-any.whl (7.6 kB)\n",
      "Requirement already satisfied: charset-normalizer<4.0,>=2.0 in /home/shr/.pyenv/versions/3.9.14/lib/python3.9/site-packages/charset_normalizer-2.0.12-py3.9.egg (from aiohttp==3.8.4->line-bot-sdk) (2.0.12)\n",
      "Collecting async-timeout<5.0,>=4.0.0a3\n",
      "  Downloading async_timeout-4.0.2-py3-none-any.whl (5.8 kB)\n",
      "Requirement already satisfied: attrs>=17.3.0 in /home/shr/.pyenv/versions/3.9.14/lib/python3.9/site-packages/attrs-22.1.0-py3.9.egg (from aiohttp==3.8.4->line-bot-sdk) (22.1.0)\n",
      "Requirement already satisfied: yarl<2.0,>=1.0 in /home/shr/.pyenv/versions/3.9.14/lib/python3.9/site-packages/yarl-1.8.1-py3.9-linux-x86_64.egg (from aiohttp==3.8.4->line-bot-sdk) (1.8.1)\n",
      "Collecting frozenlist>=1.1.1\n",
      "  Downloading frozenlist-1.3.3-cp39-cp39-manylinux_2_5_x86_64.manylinux1_x86_64.manylinux_2_17_x86_64.manylinux2014_x86_64.whl (158 kB)\n",
      "\u001b[2K     \u001b[90m━━━━━━━━━━━━━━━━━━━━━━━━━━━━━━━━━━━━━━━\u001b[0m \u001b[32m158.8/158.8 kB\u001b[0m \u001b[31m6.8 MB/s\u001b[0m eta \u001b[36m0:00:00\u001b[0m\n",
      "\u001b[?25hRequirement already satisfied: multidict<7.0,>=4.5 in /home/shr/.pyenv/versions/3.9.14/lib/python3.9/site-packages/multidict-6.0.2-py3.9-linux-x86_64.egg (from aiohttp==3.8.4->line-bot-sdk) (6.0.2)\n",
      "Requirement already satisfied: urllib3<1.27,>=1.21.1 in /home/shr/.pyenv/versions/3.9.14/lib/python3.9/site-packages/urllib3-1.26.8-py3.9.egg (from requests==2.28.2->line-bot-sdk) (1.26.8)\n",
      "Requirement already satisfied: certifi>=2017.4.17 in /home/shr/.pyenv/versions/3.9.14/lib/python3.9/site-packages/certifi-2021.10.8-py3.9.egg (from requests==2.28.2->line-bot-sdk) (2021.10.8)\n",
      "Requirement already satisfied: idna<4,>=2.5 in /home/shr/.pyenv/versions/3.9.14/lib/python3.9/site-packages/idna-3.3-py3.9.egg (from requests==2.28.2->line-bot-sdk) (3.3)\n",
      "Building wheels for collected packages: future\n",
      "  Building wheel for future (setup.py) ... \u001b[?25ldone\n",
      "\u001b[?25h  Created wheel for future: filename=future-0.18.3-py3-none-any.whl size=492037 sha256=bd77fccced8d8b3fc1f925d3d35cd531503852ccf349afd41780cf974d2eb5aa\n",
      "  Stored in directory: /home/shr/.cache/pip/wheels/0c/ff/54/efb16da5b1058114a457b3c7167904915d2e5764b637ae8d3d\n",
      "Successfully built future\n",
      "Installing collected packages: requests, future, frozenlist, async-timeout, aiosignal, aiohttp, line-bot-sdk\n",
      "  Attempting uninstall: requests\n",
      "    Found existing installation: requests 2.28.1\n",
      "    Uninstalling requests-2.28.1:\n",
      "      Successfully uninstalled requests-2.28.1\n",
      "\u001b[31mERROR: pip's dependency resolver does not currently take into account all the packages that are installed. This behaviour is the source of the following dependency conflicts.\n",
      "pandas-profiling 3.4.0 requires matplotlib<3.6,>=3.2, but you have matplotlib 3.6.2 which is incompatible.\u001b[0m\u001b[31m\n",
      "\u001b[0mSuccessfully installed aiohttp-3.8.4 aiosignal-1.3.1 async-timeout-4.0.2 frozenlist-1.3.3 future-0.18.3 line-bot-sdk-2.4.2 requests-2.28.2\n",
      "\n",
      "\u001b[1m[\u001b[0m\u001b[34;49mnotice\u001b[0m\u001b[1;39;49m]\u001b[0m\u001b[39;49m A new release of pip available: \u001b[0m\u001b[31;49m22.3.1\u001b[0m\u001b[39;49m -> \u001b[0m\u001b[32;49m23.1.2\u001b[0m\n",
      "\u001b[1m[\u001b[0m\u001b[34;49mnotice\u001b[0m\u001b[1;39;49m]\u001b[0m\u001b[39;49m To update, run: \u001b[0m\u001b[32;49mpip install --upgrade pip\u001b[0m\n"
     ]
    }
   ],
   "source": [
    "#載入LineBot所需要的模組 \n",
    "!pip install flask\n",
    "!pip install line-bot-sdk\n",
    "\n",
    "from flask import Flask, request, abort\n",
    "from linebot import (LineBotApi, WebhookHandler) \n",
    "from linebot.exceptions import (InvalidSignatureError) \n",
    "from linebot.models import *\n",
    "from linebot.models import MessageEvent, TextMessage, TextSendMessage"
   ]
  }
 ],
 "metadata": {
  "kernelspec": {
   "display_name": "Python 3",
   "language": "python",
   "name": "python3"
  },
  "language_info": {
   "codemirror_mode": {
    "name": "ipython",
    "version": 3
   },
   "file_extension": ".py",
   "mimetype": "text/x-python",
   "name": "python",
   "nbconvert_exporter": "python",
   "pygments_lexer": "ipython3",
   "version": "3.9.14"
  },
  "orig_nbformat": 4
 },
 "nbformat": 4,
 "nbformat_minor": 2
}
